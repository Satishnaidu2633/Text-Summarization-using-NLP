{
 "cells": [
  {
   "cell_type": "code",
   "execution_count": 53,
   "id": "2c5361c5-4d17-4b46-b7e0-5693379556c3",
   "metadata": {},
   "outputs": [],
   "source": [
    "text = \"\"\"Artificial Intelligence (AI) is rapidly reshaping the modern world, influencing nearly every industry and aspect of daily life. From the use of intelligent virtual assistants in smartphones to complex machine learning models driving financial forecasting and medical diagnoses, AI has become a powerful force of innovation. In healthcare, it assists doctors in interpreting medical scans and predicting disease progression, while in education, adaptive learning platforms are personalizing the way students engage with content. Businesses are leveraging AI to enhance customer service through chatbots, optimize logistics with predictive algorithms, and detect fraud with real-time analysis. Meanwhile, self-driving cars, facial recognition systems, and natural language processing tools are transforming how humans interact with technology. However, these advancements are not without controversy. Ethical concerns regarding data privacy, surveillance, algorithmic bias, and the displacement of human workers are increasingly central to discussions around AI deployment. The challenge lies in balancing innovation with responsibility—ensuring that AI systems are transparent, fair, and aligned with human values. As AI continues to evolve, there is a growing need for interdisciplinary collaboration among technologists, policymakers, ethicists, and the public to guide its development. The future of AI holds incredible promise, but it also demands careful governance to prevent unintended consequences and ensure that its benefits are shared equitably across society. In this pivotal moment of technological progress, how we choose to develop and regulate AI will shape not only our economies and institutions, but the very fabric of our social and ethical landscapes for generations to come.\n",
    "\"\"\""
   ]
  },
  {
   "cell_type": "code",
   "execution_count": 54,
   "id": "829093a2-c19f-4156-8471-eb2653ea4921",
   "metadata": {},
   "outputs": [],
   "source": [
    "#!pip install -U spacy"
   ]
  },
  {
   "cell_type": "code",
   "execution_count": 55,
   "id": "84aede5d-cc0a-4a79-9df0-7282d5965b95",
   "metadata": {},
   "outputs": [],
   "source": [
    "#!python -m spacy download en_core_web_sm"
   ]
  },
  {
   "cell_type": "code",
   "execution_count": 56,
   "id": "b55c8b51-6307-4ff3-9118-209b811adff7",
   "metadata": {},
   "outputs": [],
   "source": [
    "import spacy\n",
    "from spacy.lang.en.stop_words import STOP_WORDS\n",
    "from string import punctuation"
   ]
  },
  {
   "cell_type": "code",
   "execution_count": 57,
   "id": "f470ccd0-7068-4139-90fc-2b1e0a8ef014",
   "metadata": {},
   "outputs": [],
   "source": [
    "stopwords = list(STOP_WORDS)"
   ]
  },
  {
   "cell_type": "code",
   "execution_count": 58,
   "id": "311a0ce0-f5bf-4993-8ec3-2be484952f88",
   "metadata": {},
   "outputs": [],
   "source": [
    "nlp = spacy.load('en_core_web_sm')"
   ]
  },
  {
   "cell_type": "code",
   "execution_count": 59,
   "id": "fd6e4cb1-421c-414f-8ee5-b69578406b4e",
   "metadata": {},
   "outputs": [],
   "source": [
    "doc = nlp(text)"
   ]
  },
  {
   "cell_type": "code",
   "execution_count": 60,
   "id": "07e0d467-b070-41e4-81ad-e700c3c4609d",
   "metadata": {},
   "outputs": [
    {
     "name": "stdout",
     "output_type": "stream",
     "text": [
      "['Artificial', 'Intelligence', '(', 'AI', ')', 'is', 'rapidly', 'reshaping', 'the', 'modern', 'world', ',', 'influencing', 'nearly', 'every', 'industry', 'and', 'aspect', 'of', 'daily', 'life', '.', 'From', 'the', 'use', 'of', 'intelligent', 'virtual', 'assistants', 'in', 'smartphones', 'to', 'complex', 'machine', 'learning', 'models', 'driving', 'financial', 'forecasting', 'and', 'medical', 'diagnoses', ',', 'AI', 'has', 'become', 'a', 'powerful', 'force', 'of', 'innovation', '.', 'In', 'healthcare', ',', 'it', 'assists', 'doctors', 'in', 'interpreting', 'medical', 'scans', 'and', 'predicting', 'disease', 'progression', ',', 'while', 'in', 'education', ',', 'adaptive', 'learning', 'platforms', 'are', 'personalizing', 'the', 'way', 'students', 'engage', 'with', 'content', '.', 'Businesses', 'are', 'leveraging', 'AI', 'to', 'enhance', 'customer', 'service', 'through', 'chatbots', ',', 'optimize', 'logistics', 'with', 'predictive', 'algorithms', ',', 'and', 'detect', 'fraud', 'with', 'real', '-', 'time', 'analysis', '.', 'Meanwhile', ',', 'self', '-', 'driving', 'cars', ',', 'facial', 'recognition', 'systems', ',', 'and', 'natural', 'language', 'processing', 'tools', 'are', 'transforming', 'how', 'humans', 'interact', 'with', 'technology', '.', 'However', ',', 'these', 'advancements', 'are', 'not', 'without', 'controversy', '.', 'Ethical', 'concerns', 'regarding', 'data', 'privacy', ',', 'surveillance', ',', 'algorithmic', 'bias', ',', 'and', 'the', 'displacement', 'of', 'human', 'workers', 'are', 'increasingly', 'central', 'to', 'discussions', 'around', 'AI', 'deployment', '.', 'The', 'challenge', 'lies', 'in', 'balancing', 'innovation', 'with', 'responsibility', '—', 'ensuring', 'that', 'AI', 'systems', 'are', 'transparent', ',', 'fair', ',', 'and', 'aligned', 'with', 'human', 'values', '.', 'As', 'AI', 'continues', 'to', 'evolve', ',', 'there', 'is', 'a', 'growing', 'need', 'for', 'interdisciplinary', 'collaboration', 'among', 'technologists', ',', 'policymakers', ',', 'ethicists', ',', 'and', 'the', 'public', 'to', 'guide', 'its', 'development', '.', 'The', 'future', 'of', 'AI', 'holds', 'incredible', 'promise', ',', 'but', 'it', 'also', 'demands', 'careful', 'governance', 'to', 'prevent', 'unintended', 'consequences', 'and', 'ensure', 'that', 'its', 'benefits', 'are', 'shared', 'equitably', 'across', 'society', '.', 'In', 'this', 'pivotal', 'moment', 'of', 'technological', 'progress', ',', 'how', 'we', 'choose', 'to', 'develop', 'and', 'regulate', 'AI', 'will', 'shape', 'not', 'only', 'our', 'economies', 'and', 'institutions', ',', 'but', 'the', 'very', 'fabric', 'of', 'our', 'social', 'and', 'ethical', 'landscapes', 'for', 'generations', 'to', 'come', '.', '\\n']\n"
     ]
    }
   ],
   "source": [
    "# convert into tokens\n",
    "tokens = [token.text for token in doc]\n",
    "print(tokens)"
   ]
  },
  {
   "cell_type": "code",
   "execution_count": 61,
   "id": "fe19ff07-fd71-4d74-aa0e-26b937a7fb75",
   "metadata": {},
   "outputs": [
    {
     "data": {
      "text/plain": [
       "'!\"#$%&\\'()*+,-./:;<=>?@[\\\\]^_`{|}~'"
      ]
     },
     "execution_count": 61,
     "metadata": {},
     "output_type": "execute_result"
    }
   ],
   "source": [
    "punctuation"
   ]
  },
  {
   "cell_type": "code",
   "execution_count": 62,
   "id": "1e63d8b0-f50e-4907-a5ef-35cb00634fb0",
   "metadata": {},
   "outputs": [
    {
     "data": {
      "text/plain": [
       "'!\"#$%&\\'()*+,-./:;<=>?@[\\\\]^_`{|}~/n'"
      ]
     },
     "execution_count": 62,
     "metadata": {},
     "output_type": "execute_result"
    }
   ],
   "source": [
    "punctuation = punctuation + '/n'\n",
    "punctuation"
   ]
  },
  {
   "cell_type": "code",
   "execution_count": 63,
   "id": "97157e95-c5c9-4bf2-8901-77608d34d5f9",
   "metadata": {},
   "outputs": [],
   "source": [
    "## How many times the words are repeated\n",
    "word_frequencies = {}\n",
    "for word in doc:\n",
    "    if word.text.lower() not in stopwords:\n",
    "        if word.text.lower() not in punctuation:\n",
    "            if word.text not in word_frequencies.keys():\n",
    "                word_frequencies[word.text]=1\n",
    "            else:\n",
    "                word_frequencies[word.text] +=1"
   ]
  },
  {
   "cell_type": "code",
   "execution_count": 64,
   "id": "c12e9896-0923-40a3-a741-d2bbbd541d1e",
   "metadata": {},
   "outputs": [
    {
     "name": "stdout",
     "output_type": "stream",
     "text": [
      "{'Artificial': 1, 'Intelligence': 1, 'AI': 8, 'rapidly': 1, 'reshaping': 1, 'modern': 1, 'world': 1, 'influencing': 1, 'nearly': 1, 'industry': 1, 'aspect': 1, 'daily': 1, 'life': 1, 'use': 1, 'intelligent': 1, 'virtual': 1, 'assistants': 1, 'smartphones': 1, 'complex': 1, 'machine': 1, 'learning': 2, 'models': 1, 'driving': 2, 'financial': 1, 'forecasting': 1, 'medical': 2, 'diagnoses': 1, 'powerful': 1, 'force': 1, 'innovation': 2, 'healthcare': 1, 'assists': 1, 'doctors': 1, 'interpreting': 1, 'scans': 1, 'predicting': 1, 'disease': 1, 'progression': 1, 'education': 1, 'adaptive': 1, 'platforms': 1, 'personalizing': 1, 'way': 1, 'students': 1, 'engage': 1, 'content': 1, 'Businesses': 1, 'leveraging': 1, 'enhance': 1, 'customer': 1, 'service': 1, 'chatbots': 1, 'optimize': 1, 'logistics': 1, 'predictive': 1, 'algorithms': 1, 'detect': 1, 'fraud': 1, 'real': 1, 'time': 1, 'analysis': 1, 'self': 1, 'cars': 1, 'facial': 1, 'recognition': 1, 'systems': 2, 'natural': 1, 'language': 1, 'processing': 1, 'tools': 1, 'transforming': 1, 'humans': 1, 'interact': 1, 'technology': 1, 'advancements': 1, 'controversy': 1, 'Ethical': 1, 'concerns': 1, 'data': 1, 'privacy': 1, 'surveillance': 1, 'algorithmic': 1, 'bias': 1, 'displacement': 1, 'human': 2, 'workers': 1, 'increasingly': 1, 'central': 1, 'discussions': 1, 'deployment': 1, 'challenge': 1, 'lies': 1, 'balancing': 1, 'responsibility': 1, '—': 1, 'ensuring': 1, 'transparent': 1, 'fair': 1, 'aligned': 1, 'values': 1, 'continues': 1, 'evolve': 1, 'growing': 1, 'need': 1, 'interdisciplinary': 1, 'collaboration': 1, 'technologists': 1, 'policymakers': 1, 'ethicists': 1, 'public': 1, 'guide': 1, 'development': 1, 'future': 1, 'holds': 1, 'incredible': 1, 'promise': 1, 'demands': 1, 'careful': 1, 'governance': 1, 'prevent': 1, 'unintended': 1, 'consequences': 1, 'ensure': 1, 'benefits': 1, 'shared': 1, 'equitably': 1, 'society': 1, 'pivotal': 1, 'moment': 1, 'technological': 1, 'progress': 1, 'choose': 1, 'develop': 1, 'regulate': 1, 'shape': 1, 'economies': 1, 'institutions': 1, 'fabric': 1, 'social': 1, 'ethical': 1, 'landscapes': 1, 'generations': 1, 'come': 1, '\\n': 1}\n"
     ]
    }
   ],
   "source": [
    "print(word_frequencies)"
   ]
  },
  {
   "cell_type": "code",
   "execution_count": 65,
   "id": "d14d7e34-4916-4353-b203-5a79cd02026f",
   "metadata": {},
   "outputs": [],
   "source": [
    "max_frequency = max(word_frequencies.values())"
   ]
  },
  {
   "cell_type": "code",
   "execution_count": 66,
   "id": "7f3b9417-838e-4fb9-8eec-3a1d3ef86960",
   "metadata": {},
   "outputs": [
    {
     "data": {
      "text/plain": [
       "8"
      ]
     },
     "execution_count": 66,
     "metadata": {},
     "output_type": "execute_result"
    }
   ],
   "source": [
    "max_frequency"
   ]
  },
  {
   "cell_type": "code",
   "execution_count": 67,
   "id": "2d0bb8a2-b56d-4aae-9299-eab2a07738f4",
   "metadata": {},
   "outputs": [],
   "source": [
    "for word in word_frequencies.keys():\n",
    "    word_frequencies[word] = word_frequencies[word]/max_frequency"
   ]
  },
  {
   "cell_type": "code",
   "execution_count": 68,
   "id": "ea04099a-49c5-46d3-bc01-fd18fe176adb",
   "metadata": {},
   "outputs": [
    {
     "name": "stdout",
     "output_type": "stream",
     "text": [
      "{'Artificial': 0.125, 'Intelligence': 0.125, 'AI': 1.0, 'rapidly': 0.125, 'reshaping': 0.125, 'modern': 0.125, 'world': 0.125, 'influencing': 0.125, 'nearly': 0.125, 'industry': 0.125, 'aspect': 0.125, 'daily': 0.125, 'life': 0.125, 'use': 0.125, 'intelligent': 0.125, 'virtual': 0.125, 'assistants': 0.125, 'smartphones': 0.125, 'complex': 0.125, 'machine': 0.125, 'learning': 0.25, 'models': 0.125, 'driving': 0.25, 'financial': 0.125, 'forecasting': 0.125, 'medical': 0.25, 'diagnoses': 0.125, 'powerful': 0.125, 'force': 0.125, 'innovation': 0.25, 'healthcare': 0.125, 'assists': 0.125, 'doctors': 0.125, 'interpreting': 0.125, 'scans': 0.125, 'predicting': 0.125, 'disease': 0.125, 'progression': 0.125, 'education': 0.125, 'adaptive': 0.125, 'platforms': 0.125, 'personalizing': 0.125, 'way': 0.125, 'students': 0.125, 'engage': 0.125, 'content': 0.125, 'Businesses': 0.125, 'leveraging': 0.125, 'enhance': 0.125, 'customer': 0.125, 'service': 0.125, 'chatbots': 0.125, 'optimize': 0.125, 'logistics': 0.125, 'predictive': 0.125, 'algorithms': 0.125, 'detect': 0.125, 'fraud': 0.125, 'real': 0.125, 'time': 0.125, 'analysis': 0.125, 'self': 0.125, 'cars': 0.125, 'facial': 0.125, 'recognition': 0.125, 'systems': 0.25, 'natural': 0.125, 'language': 0.125, 'processing': 0.125, 'tools': 0.125, 'transforming': 0.125, 'humans': 0.125, 'interact': 0.125, 'technology': 0.125, 'advancements': 0.125, 'controversy': 0.125, 'Ethical': 0.125, 'concerns': 0.125, 'data': 0.125, 'privacy': 0.125, 'surveillance': 0.125, 'algorithmic': 0.125, 'bias': 0.125, 'displacement': 0.125, 'human': 0.25, 'workers': 0.125, 'increasingly': 0.125, 'central': 0.125, 'discussions': 0.125, 'deployment': 0.125, 'challenge': 0.125, 'lies': 0.125, 'balancing': 0.125, 'responsibility': 0.125, '—': 0.125, 'ensuring': 0.125, 'transparent': 0.125, 'fair': 0.125, 'aligned': 0.125, 'values': 0.125, 'continues': 0.125, 'evolve': 0.125, 'growing': 0.125, 'need': 0.125, 'interdisciplinary': 0.125, 'collaboration': 0.125, 'technologists': 0.125, 'policymakers': 0.125, 'ethicists': 0.125, 'public': 0.125, 'guide': 0.125, 'development': 0.125, 'future': 0.125, 'holds': 0.125, 'incredible': 0.125, 'promise': 0.125, 'demands': 0.125, 'careful': 0.125, 'governance': 0.125, 'prevent': 0.125, 'unintended': 0.125, 'consequences': 0.125, 'ensure': 0.125, 'benefits': 0.125, 'shared': 0.125, 'equitably': 0.125, 'society': 0.125, 'pivotal': 0.125, 'moment': 0.125, 'technological': 0.125, 'progress': 0.125, 'choose': 0.125, 'develop': 0.125, 'regulate': 0.125, 'shape': 0.125, 'economies': 0.125, 'institutions': 0.125, 'fabric': 0.125, 'social': 0.125, 'ethical': 0.125, 'landscapes': 0.125, 'generations': 0.125, 'come': 0.125, '\\n': 0.125}\n"
     ]
    }
   ],
   "source": [
    "#Normalized frequency of each of the words\n",
    "print(word_frequencies)"
   ]
  },
  {
   "cell_type": "code",
   "execution_count": 69,
   "id": "1f0edeaa-b6b8-4b46-91f7-c989fd9ef059",
   "metadata": {},
   "outputs": [
    {
     "name": "stdout",
     "output_type": "stream",
     "text": [
      "[Artificial Intelligence (AI) is rapidly reshaping the modern world, influencing nearly every industry and aspect of daily life., From the use of intelligent virtual assistants in smartphones to complex machine learning models driving financial forecasting and medical diagnoses, AI has become a powerful force of innovation., In healthcare, it assists doctors in interpreting medical scans and predicting disease progression, while in education, adaptive learning platforms are personalizing the way students engage with content., Businesses are leveraging AI to enhance customer service through chatbots, optimize logistics with predictive algorithms, and detect fraud with real-time analysis., Meanwhile, self-driving cars, facial recognition systems, and natural language processing tools are transforming how humans interact with technology., However, these advancements are not without controversy., Ethical concerns regarding data privacy, surveillance, algorithmic bias, and the displacement of human workers are increasingly central to discussions around AI deployment., The challenge lies in balancing innovation with responsibility—ensuring that AI systems are transparent, fair, and aligned with human values., As AI continues to evolve, there is a growing need for interdisciplinary collaboration among technologists, policymakers, ethicists, and the public to guide its development., The future of AI holds incredible promise, but it also demands careful governance to prevent unintended consequences and ensure that its benefits are shared equitably across society., In this pivotal moment of technological progress, how we choose to develop and regulate AI will shape not only our economies and institutions, but the very fabric of our social and ethical landscapes for generations to come.\n",
      "]\n"
     ]
    }
   ],
   "source": [
    "# Sentence Tokenization\n",
    "sentence_tokens = [sent for sent in doc.sents]\n",
    "print(sentence_tokens)"
   ]
  },
  {
   "cell_type": "code",
   "execution_count": 70,
   "id": "96c57610-1229-4f00-b8ec-8ec13fa2bc5d",
   "metadata": {},
   "outputs": [
    {
     "data": {
      "text/plain": [
       "{Artificial Intelligence (AI) is rapidly reshaping the modern world, influencing nearly every industry and aspect of daily life.: 1.25,\n",
       " From the use of intelligent virtual assistants in smartphones to complex machine learning models driving financial forecasting and medical diagnoses, AI has become a powerful force of innovation.: 2.625,\n",
       " In healthcare, it assists doctors in interpreting medical scans and predicting disease progression, while in education, adaptive learning platforms are personalizing the way students engage with content.: 2.5,\n",
       " Businesses are leveraging AI to enhance customer service through chatbots, optimize logistics with predictive algorithms, and detect fraud with real-time analysis.: 1.75,\n",
       " Meanwhile, self-driving cars, facial recognition systems, and natural language processing tools are transforming how humans interact with technology.: 2.0,\n",
       " However, these advancements are not without controversy.: 0.25,\n",
       " Ethical concerns regarding data privacy, surveillance, algorithmic bias, and the displacement of human workers are increasingly central to discussions around AI deployment.: 1.875,\n",
       " The challenge lies in balancing innovation with responsibility—ensuring that AI systems are transparent, fair, and aligned with human values.: 2.0,\n",
       " As AI continues to evolve, there is a growing need for interdisciplinary collaboration among technologists, policymakers, ethicists, and the public to guide its development.: 1.5,\n",
       " The future of AI holds incredible promise, but it also demands careful governance to prevent unintended consequences and ensure that its benefits are shared equitably across society.: 1.875,\n",
       " In this pivotal moment of technological progress, how we choose to develop and regulate AI will shape not only our economies and institutions, but the very fabric of our social and ethical landscapes for generations to come.: 2.125}"
      ]
     },
     "execution_count": 70,
     "metadata": {},
     "output_type": "execute_result"
    }
   ],
   "source": [
    "sentence_scores = {}\n",
    "for sent in sentence_tokens:\n",
    "    for word in sent:\n",
    "        if word.text.lower() in word_frequencies.keys():\n",
    "            if sent not in sentence_scores.keys():\n",
    "                sentence_scores[sent] = word_frequencies[word.text.lower()]\n",
    "            else:\n",
    "                sentence_scores[sent] += word_frequencies[word.text.lower()]\n",
    "                \n",
    "sentence_scores"
   ]
  },
  {
   "cell_type": "code",
   "execution_count": 71,
   "id": "a62de8e8-752e-4f27-9021-f416ece13d9f",
   "metadata": {},
   "outputs": [],
   "source": [
    "from heapq import nlargest"
   ]
  },
  {
   "cell_type": "code",
   "execution_count": 72,
   "id": "80a6f7fc-ac97-4849-aeb1-4503bd92b50d",
   "metadata": {},
   "outputs": [
    {
     "data": {
      "text/plain": [
       "3"
      ]
     },
     "execution_count": 72,
     "metadata": {},
     "output_type": "execute_result"
    }
   ],
   "source": [
    "select_length = int(len(sentence_tokens)*0.3)\n",
    "select_length"
   ]
  },
  {
   "cell_type": "code",
   "execution_count": 73,
   "id": "7dfaffd2-ab12-4f98-9792-951fbdf7ce34",
   "metadata": {},
   "outputs": [
    {
     "data": {
      "text/plain": [
       "[From the use of intelligent virtual assistants in smartphones to complex machine learning models driving financial forecasting and medical diagnoses, AI has become a powerful force of innovation.,\n",
       " In healthcare, it assists doctors in interpreting medical scans and predicting disease progression, while in education, adaptive learning platforms are personalizing the way students engage with content.,\n",
       " In this pivotal moment of technological progress, how we choose to develop and regulate AI will shape not only our economies and institutions, but the very fabric of our social and ethical landscapes for generations to come.]"
      ]
     },
     "execution_count": 73,
     "metadata": {},
     "output_type": "execute_result"
    }
   ],
   "source": [
    "summary = nlargest(select_length, sentence_scores, key=sentence_scores.get)\n",
    "summary"
   ]
  },
  {
   "cell_type": "code",
   "execution_count": 74,
   "id": "790607c6-0bfc-4db5-9586-6bfce9744ed2",
   "metadata": {},
   "outputs": [],
   "source": [
    "final_summary = [word.text for word in summary]\n",
    "summary = ' '.join(final_summary)"
   ]
  },
  {
   "cell_type": "code",
   "execution_count": 75,
   "id": "18bdc728-b099-4e8d-a354-a2498a1d278d",
   "metadata": {},
   "outputs": [
    {
     "name": "stdout",
     "output_type": "stream",
     "text": [
      "Artificial Intelligence (AI) is rapidly reshaping the modern world, influencing nearly every industry and aspect of daily life. From the use of intelligent virtual assistants in smartphones to complex machine learning models driving financial forecasting and medical diagnoses, AI has become a powerful force of innovation. In healthcare, it assists doctors in interpreting medical scans and predicting disease progression, while in education, adaptive learning platforms are personalizing the way students engage with content. Businesses are leveraging AI to enhance customer service through chatbots, optimize logistics with predictive algorithms, and detect fraud with real-time analysis. Meanwhile, self-driving cars, facial recognition systems, and natural language processing tools are transforming how humans interact with technology. However, these advancements are not without controversy. Ethical concerns regarding data privacy, surveillance, algorithmic bias, and the displacement of human workers are increasingly central to discussions around AI deployment. The challenge lies in balancing innovation with responsibility—ensuring that AI systems are transparent, fair, and aligned with human values. As AI continues to evolve, there is a growing need for interdisciplinary collaboration among technologists, policymakers, ethicists, and the public to guide its development. The future of AI holds incredible promise, but it also demands careful governance to prevent unintended consequences and ensure that its benefits are shared equitably across society. In this pivotal moment of technological progress, how we choose to develop and regulate AI will shape not only our economies and institutions, but the very fabric of our social and ethical landscapes for generations to come.\n",
      "\n"
     ]
    }
   ],
   "source": [
    "print(text)"
   ]
  },
  {
   "cell_type": "code",
   "execution_count": 76,
   "id": "ea58590a-f385-4287-a878-e9c9e665b559",
   "metadata": {},
   "outputs": [
    {
     "name": "stdout",
     "output_type": "stream",
     "text": [
      "From the use of intelligent virtual assistants in smartphones to complex machine learning models driving financial forecasting and medical diagnoses, AI has become a powerful force of innovation. In healthcare, it assists doctors in interpreting medical scans and predicting disease progression, while in education, adaptive learning platforms are personalizing the way students engage with content. In this pivotal moment of technological progress, how we choose to develop and regulate AI will shape not only our economies and institutions, but the very fabric of our social and ethical landscapes for generations to come.\n",
      "\n"
     ]
    }
   ],
   "source": [
    "print(summary)"
   ]
  },
  {
   "cell_type": "code",
   "execution_count": 77,
   "id": "3d2cf143-4a1d-4dcf-86f9-6903512f41ff",
   "metadata": {},
   "outputs": [
    {
     "data": {
      "text/plain": [
       "1796"
      ]
     },
     "execution_count": 77,
     "metadata": {},
     "output_type": "execute_result"
    }
   ],
   "source": [
    "len(text)"
   ]
  },
  {
   "cell_type": "code",
   "execution_count": 78,
   "id": "f115bed8-e0ef-4763-a096-052e66ef0edc",
   "metadata": {},
   "outputs": [
    {
     "data": {
      "text/plain": [
       "625"
      ]
     },
     "execution_count": 78,
     "metadata": {},
     "output_type": "execute_result"
    }
   ],
   "source": [
    "len(summary)"
   ]
  },
  {
   "cell_type": "code",
   "execution_count": null,
   "id": "d87efc4b-c072-47a6-b22c-b591d44d9e65",
   "metadata": {},
   "outputs": [],
   "source": []
  }
 ],
 "metadata": {
  "kernelspec": {
   "display_name": "Python 3 (ipykernel)",
   "language": "python",
   "name": "python3"
  },
  "language_info": {
   "codemirror_mode": {
    "name": "ipython",
    "version": 3
   },
   "file_extension": ".py",
   "mimetype": "text/x-python",
   "name": "python",
   "nbconvert_exporter": "python",
   "pygments_lexer": "ipython3",
   "version": "3.11.9"
  }
 },
 "nbformat": 4,
 "nbformat_minor": 5
}
